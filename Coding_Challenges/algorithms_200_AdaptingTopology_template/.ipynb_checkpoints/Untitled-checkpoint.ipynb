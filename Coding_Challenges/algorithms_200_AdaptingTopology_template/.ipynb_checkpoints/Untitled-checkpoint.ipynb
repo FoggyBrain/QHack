{
 "cells": [
  {
   "cell_type": "code",
   "execution_count": 2,
   "metadata": {},
   "outputs": [],
   "source": [
    "import numpy as np\n",
    "import pennylane as qml"
   ]
  },
  {
   "cell_type": "code",
   "execution_count": 1,
   "metadata": {},
   "outputs": [],
   "source": [
    "graph = {\n",
    "    0: [1],\n",
    "    1: [0, 2, 3, 4],\n",
    "    2: [1],\n",
    "    3: [1],\n",
    "    4: [1, 5, 7, 8],\n",
    "    5: [4, 6],\n",
    "    6: [5, 7],\n",
    "    7: [4, 6],\n",
    "    8: [4],\n",
    "}"
   ]
  },
  {
   "cell_type": "code",
   "execution_count": 3,
   "metadata": {},
   "outputs": [
    {
     "data": {
      "text/plain": [
       "array([0, 4])"
      ]
     },
     "execution_count": 3,
     "metadata": {},
     "output_type": "execute_result"
    }
   ],
   "source": [
    "a = np.array([0,1,4,9])\n",
    "a[[0,2]]"
   ]
  },
  {
   "cell_type": "code",
   "execution_count": 4,
   "metadata": {},
   "outputs": [
    {
     "data": {
      "text/plain": [
       "array([2, 2, 2, 2, 2])"
      ]
     },
     "execution_count": 4,
     "metadata": {},
     "output_type": "execute_result"
    }
   ],
   "source": [
    "np.full(5,2)"
   ]
  },
  {
   "cell_type": "code",
   "execution_count": 5,
   "metadata": {},
   "outputs": [
    {
     "data": {
      "text/plain": [
       "{0, 1, 2, 3, 4}"
      ]
     },
     "execution_count": 5,
     "metadata": {},
     "output_type": "execute_result"
    }
   ],
   "source": [
    "s = set(np.arange(5))\n",
    "s"
   ]
  },
  {
   "cell_type": "code",
   "execution_count": 6,
   "metadata": {},
   "outputs": [
    {
     "data": {
      "text/plain": [
       "0"
      ]
     },
     "execution_count": 6,
     "metadata": {},
     "output_type": "execute_result"
    }
   ],
   "source": [
    "min(0,100)"
   ]
  },
  {
   "cell_type": "code",
   "execution_count": 7,
   "metadata": {},
   "outputs": [
    {
     "data": {
      "text/plain": [
       "5"
      ]
     },
     "execution_count": 7,
     "metadata": {},
     "output_type": "execute_result"
    }
   ],
   "source": [
    "i=0\n",
    "while True:\n",
    "    i+=1\n",
    "    if i == 5:\n",
    "        break\n",
    "i"
   ]
  },
  {
   "cell_type": "code",
   "execution_count": 8,
   "metadata": {},
   "outputs": [],
   "source": [
    "start = 1\n",
    "end = 6\n",
    "    \n",
    "dist = np.full(9,np.inf)\n",
    "dist[start]=0\n",
    "unvisited = set(np.arange(9))\n",
    "current = start\n",
    "    \n",
    "while True:\n",
    "    for neighbor in graph[current]:\n",
    "        if neighbor in unvisited:\n",
    "            dist[neighbor]=min(dist[neighbor],dist[current]+1)\n",
    "    unvisited.remove(current)\n",
    "    mindis_unvis = np.inf\n",
    "    for i in unvisited:\n",
    "        if dist[i]<mindis_unvis:\n",
    "            current = i\n",
    "            mindis_unvis=dist[i]\n",
    "    if current == end:\n",
    "        break"
   ]
  },
  {
   "cell_type": "code",
   "execution_count": 9,
   "metadata": {},
   "outputs": [
    {
     "data": {
      "text/plain": [
       "6"
      ]
     },
     "execution_count": 9,
     "metadata": {},
     "output_type": "execute_result"
    }
   ],
   "source": [
    "current"
   ]
  },
  {
   "cell_type": "code",
   "execution_count": 10,
   "metadata": {},
   "outputs": [
    {
     "data": {
      "text/plain": [
       "3.0"
      ]
     },
     "execution_count": 10,
     "metadata": {},
     "output_type": "execute_result"
    }
   ],
   "source": [
    "dist[current]"
   ]
  },
  {
   "cell_type": "code",
   "execution_count": 2,
   "metadata": {},
   "outputs": [],
   "source": [
    "dev = qml.device(\"default.qubit\", wires = 3)\n",
    "        \n",
    "@qml.qnode(dev)\n",
    "def inner(A, B):\n",
    "    qml.AmplitudeEmbedding(features = np.outer(A,B).flatten(), wires = [1,2], normalize = True)\n",
    "    qml.Hadamard(wires = 0)\n",
    "    qml.CSWAP(wires = [0,1,2])\n",
    "    qml.Hadamard(wires = 0)\n",
    "    return qml.expval(qml.PauliZ(0))"
   ]
  },
  {
   "cell_type": "code",
   "execution_count": 7,
   "metadata": {},
   "outputs": [
    {
     "data": {
      "text/plain": [
       "array([[ 0.99500417, -0.09983342],\n",
       "       [ 0.09983342,  0.99500417]])"
      ]
     },
     "execution_count": 7,
     "metadata": {},
     "output_type": "execute_result"
    }
   ],
   "source": [
    "qml.RY(0.2, wires = 1).matrix"
   ]
  },
  {
   "cell_type": "code",
   "execution_count": 10,
   "metadata": {},
   "outputs": [],
   "source": [
    "arr = np.full(3, fill_value = 1)"
   ]
  },
  {
   "cell_type": "code",
   "execution_count": 11,
   "metadata": {},
   "outputs": [
    {
     "data": {
      "text/plain": [
       "3"
      ]
     },
     "execution_count": 11,
     "metadata": {},
     "output_type": "execute_result"
    }
   ],
   "source": [
    "sum(arr)"
   ]
  },
  {
   "cell_type": "code",
   "execution_count": 12,
   "metadata": {},
   "outputs": [
    {
     "data": {
      "text/plain": [
       "True"
      ]
     },
     "execution_count": 12,
     "metadata": {},
     "output_type": "execute_result"
    }
   ],
   "source": [
    "0==0+0.j"
   ]
  },
  {
   "cell_type": "code",
   "execution_count": 5,
   "metadata": {},
   "outputs": [
    {
     "data": {
      "image/png": "[encoded data removed]",
      "text/plain": [
       "<Figure size 504x288 with 1 Axes>"
      ]
     },
     "metadata": {},
     "output_type": "display_data"
    }
   ],
   "source": [
    "dev = qml.device(\"default.mixed\", wires=3)\n",
    "\n",
    "def density_matrix(alpha):\n",
    "    \"\"\"Creates a density matrix from a pure state.\"\"\"\n",
    "    # DO NOT MODIFY anything in this code block\n",
    "    psi = alpha * np.array([1, 0], dtype=float) + np.sqrt(1 - alpha**2) * np.array(\n",
    "        [0, 1], dtype=float\n",
    "    )\n",
    "    psi = np.kron(psi, np.array([1, 0, 0, 0], dtype=float))\n",
    "    return np.outer(psi, np.conj(psi))\n",
    "\n",
    "\n",
    "@qml.qnode(dev)\n",
    "def circuit(p, alpha):\n",
    "    \"\"\"A quantum circuit that will be able to identify bitflip errors.\n",
    "\n",
    "    DO NOT MODIFY any already-written lines in this function.\n",
    "\n",
    "    Args:\n",
    "        p (float): The bit flip probability\n",
    "        alpha (float): The parameter used to calculate `density_matrix(alpha)`\n",
    "        tampered_wire (int): The wire that may or may not be flipped (zero-index)\n",
    "\n",
    "    Returns:\n",
    "        Some expectation value, state, probs, ... you decide!\n",
    "    \"\"\"\n",
    "\n",
    "    qml.QubitDensityMatrix(density_matrix(alpha), wires=[0, 1, 2])\n",
    "\n",
    "\n",
    "    # QHACK #\n",
    "    \n",
    "    # put any input processing gates here\n",
    "    qml.CNOT(wires=[0,1])\n",
    "    qml.CNOT(wires=[0,2])\n",
    "\n",
    "    qml.BitFlip(p, wires=0)\n",
    "    qml.BitFlip(p, wires=1)\n",
    "    qml.BitFlip(p, wires=2)\n",
    "    # put any gates here after the bitflip error has occurred\n",
    "    # qml.CNOT(wires=[0,1])\n",
    "    # qml.CNOT(wires=[0,2])\n",
    "    \n",
    "    # return something!\n",
    "    return qml.probs(wires=[0,1,2])\n",
    "\n",
    "qml.drawer.use_style('black_white')\n",
    "fig, ax = qml.draw_mpl(circuit)(0.1, 0.7)"
   ]
  },
  {
   "cell_type": "code",
   "execution_count": 35,
   "metadata": {},
   "outputs": [],
   "source": [
    "dev1 = qml.device(\"default.mixed\", wires=4)"
   ]
  },
  {
   "cell_type": "code",
   "execution_count": 32,
   "metadata": {},
   "outputs": [],
   "source": [
    "symbols = [\"H\", \"H\"]\n",
    "coordinates = np.array([0.0, 0.0, -0.6614, 0.0, 0.0, 0.6614])"
   ]
  },
  {
   "cell_type": "code",
   "execution_count": 38,
   "metadata": {},
   "outputs": [],
   "source": [
    "hf_state = [1,1,0,0]"
   ]
  },
  {
   "cell_type": "code",
   "execution_count": 13,
   "metadata": {},
   "outputs": [
    {
     "ename": "AttributeError",
     "evalue": "'Tensor' object has no attribute 'get_matrix'",
     "output_type": "error",
     "traceback": [
      "\u001b[0;31m---------------------------------------------------------------------------\u001b[0m",
      "\u001b[0;31mAttributeError\u001b[0m                            Traceback (most recent call last)",
      "\u001b[0;32m<ipython-input-13-ac35c4ffe91d>\u001b[0m in \u001b[0;36m<module>\u001b[0;34m\u001b[0m\n\u001b[1;32m      2\u001b[0m \u001b[0mobs1\u001b[0m \u001b[0;34m=\u001b[0m \u001b[0mqml\u001b[0m\u001b[0;34m.\u001b[0m\u001b[0mPauliX\u001b[0m\u001b[0;34m(\u001b[0m\u001b[0;36m0\u001b[0m\u001b[0;34m)\u001b[0m \u001b[0;34m@\u001b[0m \u001b[0mqml\u001b[0m\u001b[0;34m.\u001b[0m\u001b[0mPauliZ\u001b[0m\u001b[0;34m(\u001b[0m\u001b[0;36m1\u001b[0m\u001b[0;34m)\u001b[0m\u001b[0;34m\u001b[0m\u001b[0;34m\u001b[0m\u001b[0m\n\u001b[1;32m      3\u001b[0m \u001b[0mH\u001b[0m \u001b[0;34m=\u001b[0m \u001b[0mqml\u001b[0m\u001b[0;34m.\u001b[0m\u001b[0mHamiltonian\u001b[0m\u001b[0;34m(\u001b[0m\u001b[0mcoeffs\u001b[0m\u001b[0;34m,\u001b[0m \u001b[0mobs\u001b[0m\u001b[0;34m)\u001b[0m\u001b[0;34m\u001b[0m\u001b[0;34m\u001b[0m\u001b[0m\n\u001b[0;32m----> 4\u001b[0;31m \u001b[0mobs1\u001b[0m\u001b[0;34m.\u001b[0m\u001b[0mget_matrix\u001b[0m\u001b[0;34m(\u001b[0m\u001b[0;34m)\u001b[0m\u001b[0;34m\u001b[0m\u001b[0;34m\u001b[0m\u001b[0m\n\u001b[0m",
      "\u001b[0;31mAttributeError\u001b[0m: 'Tensor' object has no attribute 'get_matrix'"
     ]
    }
   ],
   "source": [
    "coeffs = [0.2, -0.543]\n",
    "obs1 = qml.PauliX(0) @ qml.PauliZ(1)\n",
    "H = qml.Hamiltonian(coeffs, obs)\n",
    "obs1.get_matrix()"
   ]
  },
  {
   "cell_type": "code",
   "execution_count": 14,
   "metadata": {},
   "outputs": [
    {
     "data": {
      "text/plain": [
       "2.0"
      ]
     },
     "execution_count": 14,
     "metadata": {},
     "output_type": "execute_result"
    }
   ],
   "source": [
    "np.mean([1,2,3])"
   ]
  },
  {
   "cell_type": "code",
   "execution_count": 28,
   "metadata": {},
   "outputs": [],
   "source": [
    "dev = qml.device(\"default.qubit\", wires = 2, shots =1)\n",
    "@qml.qnode(dev)\n",
    "def prepare_entangled(alpha, beta):\n",
    "    \"\"\"Construct a circuit that prepares the (not necessarily maximally) entangled state in terms of alpha and beta\n",
    "    Do not forget to normalize.\n",
    "\n",
    "    Args:\n",
    "        - alpha (float): real coefficient of |00>\n",
    "        - beta (float): real coefficient of |11>\n",
    "    \"\"\"\n",
    "\n",
    "    # QHACK #\n",
    "    theta = np.arctan(beta/alpha)\n",
    "    qml.RY(theta*2, wires = 0)\n",
    "    qml.CNOT(wires = [0,1])\n",
    "    # QHACK #\n",
    "    return qml.sample()\n",
    "\n",
    "@qml.qnode(dev)\n",
    "def measure():\n",
    "    qml.PauliX(0)\n",
    "    return qml.sample(qml.PauliZ(0))"
   ]
  },
  {
   "cell_type": "code",
   "execution_count": 31,
   "metadata": {},
   "outputs": [
    {
     "data": {
      "text/plain": [
       "tensor(1, requires_grad=True)"
      ]
     },
     "execution_count": 31,
     "metadata": {},
     "output_type": "execute_result"
    }
   ],
   "source": [
    "prepare_entangled(1,1)"
   ]
  },
  {
   "cell_type": "code",
   "execution_count": 32,
   "metadata": {},
   "outputs": [
    {
     "data": {
      "text/plain": [
       "tensor(-1, requires_grad=True)"
      ]
     },
     "execution_count": 32,
     "metadata": {},
     "output_type": "execute_result"
    }
   ],
   "source": [
    "measure()"
   ]
  },
  {
   "cell_type": "code",
   "execution_count": null,
   "metadata": {},
   "outputs": [],
   "source": []
  }
 ],
 "metadata": {
  "kernelspec": {
   "display_name": "Python 3",
   "language": "python",
   "name": "python3"
  },
  "language_info": {
   "codemirror_mode": {
    "name": "ipython",
    "version": 3
   },
   "file_extension": ".py",
   "mimetype": "text/x-python",
   "name": "python",
   "nbconvert_exporter": "python",
   "pygments_lexer": "ipython3",
   "version": "3.8.5"
  }
 },
 "nbformat": 4,
 "nbformat_minor": 4
}
